{
 "cells": [
  {
   "cell_type": "markdown",
   "id": "7d385d11",
   "metadata": {},
   "source": [
    "# Evaluación Final Módulo 1 - Laura Gomez Garcia"
   ]
  },
  {
   "cell_type": "markdown",
   "id": "a2d43866",
   "metadata": {},
   "source": [
    "# 1. Estructuras principales / Variables"
   ]
  },
  {
   "cell_type": "code",
   "execution_count": 9,
   "id": "44c4f420",
   "metadata": {},
   "outputs": [],
   "source": [
    "inventario = []\n",
    "clientes = []\n",
    "ventas_totales = 0"
   ]
  },
  {
   "cell_type": "markdown",
   "id": "082586a4",
   "metadata": {},
   "source": [
    "# 2. Ejercicios OBLIGATORIOS"
   ]
  },
  {
   "cell_type": "markdown",
   "id": "0d73fcf9",
   "metadata": {},
   "source": [
    "1. AGREGAR PRODUCTOS AL INVENTARIO"
   ]
  },
  {
   "cell_type": "code",
   "execution_count": 157,
   "id": "847b0db5",
   "metadata": {},
   "outputs": [],
   "source": [
    "#Esta función agrega un producto al inventario o actualiza su cantidad si ya existe. \n",
    "#Debe recibir el nombre, precio y cantidad del producto como parámetros.  \n",
    "     # Itera a través del inventario y compara los nombres de los productos con el nombre proporcionado. \n",
    "     # Si el producto ya existe, actualiza la cantidad. \n",
    "     # Si no existe, agrega un nuevo producto al inventario."
   ]
  },
  {
   "cell_type": "code",
   "execution_count": null,
   "id": "09534a09",
   "metadata": {},
   "outputs": [
    {
     "name": "stdout",
     "output_type": "stream",
     "text": [
      "Ya se ha actualizado su inventario\n"
     ]
    }
   ],
   "source": [
    "\n",
    "#def agregar_producto(nombre,precio,cantidad):\n",
    "while True:                   #mientras sea verdadero se repite hasta que le preguntamos si quiere seguir actualizando\n",
    "    nombre = input(\"Dime un producto\")\n",
    "    precio = float(input(\"Qué precio tiene?\"))\n",
    "    cantidad = int(input(\"Cuántos ?\"))\n",
    "\n",
    "    #Creamos el diccionario del producto\n",
    "    dic_producto = {\"nombre\":nombre,\"precio\":precio, \"cantidad\": cantidad}\n",
    "            \n",
    "    # Buscamos si el producto ya existe\n",
    "    encontrado = False\n",
    "    for producto in inventario:\n",
    "        if producto [\"nombre\"].lower() == nombre.lower():\n",
    "            producto [\"cantidad\"] += cantidad\n",
    "            encontrado = True\n",
    "            break\n",
    "    if not encontrado:\n",
    "         inventario.append(dic_producto)\n",
    "\n",
    "    seguir = input(\"Quieres añadir más productos? s/n :\")\n",
    "    if seguir.lower() != \"s\":\n",
    "        break\n",
    "print(\"Ya se ha actualizado su inventario\")\n",
    "\n",
    "  "
   ]
  },
  {
   "cell_type": "markdown",
   "id": "5233eee2",
   "metadata": {},
   "source": [
    "2. VER EL INVENTARIO "
   ]
  },
  {
   "cell_type": "code",
   "execution_count": 18,
   "id": "b273d804",
   "metadata": {},
   "outputs": [],
   "source": [
    "#ver_inventario()`: Muestra el inventario de productos con sus detalles. \n",
    "    #Utiliza un bucle `for` para recorrer el inventario. \n",
    "    #Imprime los detalles (nombre, precio, cantidad) de cada producto."
   ]
  },
  {
   "cell_type": "code",
   "execution_count": 19,
   "id": "f5f54658",
   "metadata": {},
   "outputs": [
    {
     "name": "stdout",
     "output_type": "stream",
     "text": [
      "Nombre: falda, Precio: $ 25.0, Cantidad: 140\n",
      "Nombre: pantalon, Precio: $ 35.0, Cantidad: 250\n",
      "Nombre: camisa, Precio: $ 36.0, Cantidad: 148\n",
      "Nombre: abrigo, Precio: $ 70.0, Cantidad: 80\n"
     ]
    }
   ],
   "source": [
    "for producto in inventario:\n",
    "    nombre=producto['nombre']\n",
    "    precio=producto['precio']\n",
    "    cantidad=producto['cantidad']\n",
    "    print(f\"Nombre: {nombre}, Precio: $ {precio}, Cantidad: {cantidad}\")\n",
    "   "
   ]
  },
  {
   "cell_type": "code",
   "execution_count": 21,
   "id": "5875f558",
   "metadata": {},
   "outputs": [
    {
     "name": "stdout",
     "output_type": "stream",
     "text": [
      "Nombre: falda\n",
      "Precio: ~$ 25.0 \n",
      "Cantidad: 140\n",
      "\n",
      ".......................................\n",
      "\n",
      "Nombre: pantalon\n",
      "Precio: ~$ 35.0 \n",
      "Cantidad: 250\n",
      "\n",
      ".......................................\n",
      "\n",
      "Nombre: camisa\n",
      "Precio: ~$ 36.0 \n",
      "Cantidad: 148\n",
      "\n",
      ".......................................\n",
      "\n",
      "Nombre: abrigo\n",
      "Precio: ~$ 70.0 \n",
      "Cantidad: 80\n",
      "\n",
      ".......................................\n",
      "\n"
     ]
    }
   ],
   "source": [
    "\n",
    "for producto in inventario:\n",
    "    print(f\"Nombre: {producto['nombre']}\")\n",
    "    print(f\"Precio: ~$ {producto['precio']} \")\n",
    "    print(f\"Cantidad: {producto['cantidad']}\")\n",
    "\n",
    "    print (\"\\n.......................................\\n\")"
   ]
  },
  {
   "cell_type": "markdown",
   "id": "839364e9",
   "metadata": {},
   "source": [
    "3. VER UN PRODUCTO "
   ]
  },
  {
   "cell_type": "code",
   "execution_count": 20,
   "id": "c2a3015f",
   "metadata": {},
   "outputs": [],
   "source": [
    "#buscar_producto(nombre)`: Busca un producto en el inventario por nombre \n",
    "#y muestra sus detalles si se encuentra. Debe recibir el nombre del producto como parámetro. \n",
    "    # Utiliza un bucle `for` para recorrer el inventario. \n",
    "    # Compara los nombres de los productos con el nombre proporcionado. \n",
    "    # Si se encuentra el producto, imprime sus detalles."
   ]
  },
  {
   "cell_type": "code",
   "execution_count": 22,
   "id": "eadbfbab",
   "metadata": {},
   "outputs": [
    {
     "name": "stdout",
     "output_type": "stream",
     "text": [
      "Producto a consultar: \n",
      "\n",
      "Nombre: falda, Precio: 25.0, Cantidad: 140\n"
     ]
    }
   ],
   "source": [
    "consulta_producto = input(\"Indroduce el nombre del artículo a consultar\").lower()\n",
    "\n",
    "encontrado = False\n",
    "\n",
    "for producto in inventario:\n",
    "    if producto['nombre'] == consulta_producto:\n",
    "        print(f\"Producto a consultar: \\n\\nNombre: {producto['nombre']}, Precio: {producto['precio']}, Cantidad: {producto['cantidad']}\")\n",
    "        encontrado = True\n",
    "        break\n",
    "\n",
    "if not encontrado:\n",
    "    print(\"Producto no encontrado.\") \n"
   ]
  },
  {
   "cell_type": "markdown",
   "id": "6a28f5cf",
   "metadata": {},
   "source": [
    "4. ACTUALIZAR STOCK "
   ]
  },
  {
   "cell_type": "code",
   "execution_count": 164,
   "id": "bac8f58d",
   "metadata": {},
   "outputs": [],
   "source": [
    "# Actualiza el stock de un producto en el inventario. \n",
    "# Debe recibir el nombre del producto y la cantidad a gregar o quitar como parámetros. \n",
    "    #Utiliza un bucle `for` para recorrer el inventario. \n",
    "    #Busca el producto por nombre.\n",
    "    #Actualiza la cantidad según la entrada del usuario\n",
    "    #Si el producto no esta en el inventario muestra un mensaje indicándolo."
   ]
  },
  {
   "cell_type": "code",
   "execution_count": 23,
   "id": "25f233f4",
   "metadata": {},
   "outputs": [
    {
     "data": {
      "text/plain": [
       "[{'nombre': 'falda', 'precio': 25.0, 'cantidad': 140},\n",
       " {'nombre': 'pantalon', 'precio': 35.0, 'cantidad': 250},\n",
       " {'nombre': 'camisa', 'precio': 36.0, 'cantidad': 148},\n",
       " {'nombre': 'abrigo', 'precio': 70.0, 'cantidad': 80}]"
      ]
     },
     "execution_count": 23,
     "metadata": {},
     "output_type": "execute_result"
    }
   ],
   "source": [
    "inventario"
   ]
  },
  {
   "cell_type": "code",
   "execution_count": 24,
   "id": "13963ae3",
   "metadata": {},
   "outputs": [
    {
     "name": "stdout",
     "output_type": "stream",
     "text": [
      "Has actualizado el siguiente articulo:\n",
      "\n",
      " Nombre: camisa\n",
      " Cantidad Añadida:-48\n",
      " Cantidad Actualizada: 100 unidades\n"
     ]
    }
   ],
   "source": [
    "actualizar_producto = input(\"Indroduce el nombre del artículo a actualizar\").lower()\n",
    "actualizar_cantidad = int(input(\"Indroduce la cantidad a sumar o restar del inventario\"))\n",
    "\n",
    "encontrado = False\n",
    "\n",
    "for producto in inventario:\n",
    "    if producto['nombre'] == actualizar_producto:\n",
    "        producto.update ({\"cantidad\": producto[\"cantidad\"] + actualizar_cantidad})\n",
    "        print(f\"Has actualizado el siguiente articulo:\\n\\n Nombre: {producto['nombre']}\\n Cantidad Añadida:{actualizar_cantidad}\\n Cantidad Actualizada: {producto['cantidad']} unidades\")\n",
    "        encontrado = True\n",
    "        break\n",
    "\n",
    "if not encontrado:\n",
    "    print(\"Producto no encontrado en el inventario.\") "
   ]
  },
  {
   "cell_type": "markdown",
   "id": "066b370a",
   "metadata": {},
   "source": [
    "5. ELIMINAR PRODUCTO "
   ]
  },
  {
   "cell_type": "code",
   "execution_count": null,
   "id": "e9fe5ece",
   "metadata": {},
   "outputs": [],
   "source": [
    "#Elimina un producto del inventario por nombre. \n",
    "#Debe recibir el nombre del producto como parámetro. \n",
    "     # Utiliza un bucle `for` para recorrer el inventario. \n",
    "     #  Busca el producto por nombre. \n",
    "     # Elimina el producto del inventario si existe. \n",
    "     # Si el producto no esta en el inventario muestra un mensaje indicándolo. "
   ]
  },
  {
   "cell_type": "code",
   "execution_count": 25,
   "id": "0cb2b222",
   "metadata": {},
   "outputs": [
    {
     "data": {
      "text/plain": [
       "[{'nombre': 'falda', 'precio': 25.0, 'cantidad': 140},\n",
       " {'nombre': 'pantalon', 'precio': 35.0, 'cantidad': 250},\n",
       " {'nombre': 'camisa', 'precio': 36.0, 'cantidad': 100},\n",
       " {'nombre': 'abrigo', 'precio': 70.0, 'cantidad': 80}]"
      ]
     },
     "execution_count": 25,
     "metadata": {},
     "output_type": "execute_result"
    }
   ],
   "source": [
    "inventario"
   ]
  },
  {
   "cell_type": "code",
   "execution_count": 26,
   "id": "1a791558",
   "metadata": {},
   "outputs": [],
   "source": [
    "#Definimos una funcion del proceso de eliminar un producto:\n",
    "\n",
    "def eliminar_producto(inventario, nombre_producto):\n",
    "    encontrado = False\n",
    "\n",
    "    for producto in inventario:\n",
    "        if producto['nombre'] == nombre_producto:\n",
    "            inventario.remove(producto)\n",
    "            print(f\"Producto '{nombre_producto}' eliminado del inventario.\")\n",
    "            encontrado = True\n",
    "            break\n",
    "\n",
    "    if not encontrado:\n",
    "        print(f\"Producto '{nombre_producto}' no encontrado en el inventario.\\n\\nINVENTARIO ACTUAL:\\n\")"
   ]
  },
  {
   "cell_type": "code",
   "execution_count": 32,
   "id": "f6bca89e",
   "metadata": {},
   "outputs": [
    {
     "name": "stdout",
     "output_type": "stream",
     "text": [
      "Producto 'zapatos' no encontrado en el inventario.\n",
      "\n",
      "INVENTARIO ACTUAL:\n",
      "\n",
      "-Falda: 140 unidades a $ 25.0\n",
      "-Pantalon: 250 unidades a $ 35.0\n",
      "-Camisa: 100 unidades a $ 36.0\n",
      "-Abrigo: 80 unidades a $ 70.0\n"
     ]
    }
   ],
   "source": [
    "#Llamamos a la funcion\n",
    "\n",
    "nombre_producto = input(\"Indroduce el nombre del artículo a eliminar\").lower()\n",
    "\n",
    "eliminar_producto(inventario, nombre_producto)\n",
    "\n",
    "for producto in inventario:\n",
    "    print(f\"-{producto['nombre'].capitalize()}: {producto['cantidad']} unidades a $ {producto['precio']}\")"
   ]
  },
  {
   "cell_type": "markdown",
   "id": "2570d3b8",
   "metadata": {},
   "source": [
    "6. CALCULAR VALOR DEL INVENTARIO"
   ]
  },
  {
   "cell_type": "code",
   "execution_count": 188,
   "id": "eb180080",
   "metadata": {},
   "outputs": [],
   "source": [
    "#Calcula y muestra el valor total del inventario. \n",
    "    #Utiliza un bucle for para calcular el valor total del inventario. \n",
    "    #Itera a través del inventario y suma el valor de cada producto (precio x cantidad). \n",
    "    #Es decir, calcula el valor total del inventario."
   ]
  },
  {
   "cell_type": "code",
   "execution_count": 33,
   "id": "0bea1fd0",
   "metadata": {},
   "outputs": [
    {
     "name": "stdout",
     "output_type": "stream",
     "text": [
      "El valor del inventario actual de falda es $ 3500.0\n",
      "El valor del inventario actual de pantalon es $ 8750.0\n",
      "El valor del inventario actual de camisa es $ 3600.0\n",
      "El valor del inventario actual de abrigo es $ 5600.0\n",
      "\n",
      "El valor total del inventario es $ 21450.0\n"
     ]
    }
   ],
   "source": [
    "valor_inventario_total=0\n",
    "for producto in inventario:\n",
    "    valor_inventario = producto[\"precio\"] * producto[\"cantidad\"]\n",
    "    print (f\"El valor del inventario actual de {producto[\"nombre\"]} es $ {valor_inventario}\")\n",
    "    valor_inventario_total += valor_inventario\n",
    "\n",
    "print(f\"\\nEl valor total del inventario es $ {valor_inventario_total}\")\n"
   ]
  },
  {
   "cell_type": "markdown",
   "id": "a2f1b6b9",
   "metadata": {},
   "source": [
    "7. REALIZAR COMPRA "
   ]
  },
  {
   "cell_type": "code",
   "execution_count": null,
   "id": "dddebb72",
   "metadata": {},
   "outputs": [],
   "source": [
    "#Permite a un cliente realizar una compra seleccionando productos del inventario. \n",
    "# Debe interactuar con el cliente para seleccionar productos y calcular el costo total de la compra. \n",
    "    #Utiliza un bucle `while` para permitir al cliente realizar múltiples compras. \n",
    "    #Muestra el inventario y solicita al cliente ingresar el nombre del producto que desea comprar. \n",
    "    #Registra los productos seleccionados en un carrito y actualiza el inventario."
   ]
  },
  {
   "cell_type": "code",
   "execution_count": 29,
   "id": "1d3720e7",
   "metadata": {},
   "outputs": [
    {
     "data": {
      "text/plain": [
       "[{'nombre': 'falda', 'precio': 25.0, 'cantidad': 140},\n",
       " {'nombre': 'pantalon', 'precio': 35.0, 'cantidad': 250},\n",
       " {'nombre': 'camisa', 'precio': 36.0, 'cantidad': 100},\n",
       " {'nombre': 'abrigo', 'precio': 70.0, 'cantidad': 80}]"
      ]
     },
     "execution_count": 29,
     "metadata": {},
     "output_type": "execute_result"
    }
   ],
   "source": [
    "inventario"
   ]
  },
  {
   "cell_type": "code",
   "execution_count": 42,
   "id": "9fe38aa7",
   "metadata": {},
   "outputs": [],
   "source": [
    "# Definimos la funcion de buscar producto que quiere añadir en el carrito está en nuestro imventario\n",
    "def buscar_producto(producto_carrito):\n",
    "    for producto in inventario:\n",
    "        if producto[\"nombre\"].lower() == producto.lower():\n",
    "            return producto\n",
    "    return None"
   ]
  },
  {
   "cell_type": "code",
   "execution_count": 90,
   "id": "3be209a4",
   "metadata": {},
   "outputs": [
    {
     "name": "stdout",
     "output_type": "stream",
     "text": [
      "BIENVENIDA A LA TIENDA DE ROPA LAURA\n",
      "\n",
      "\n",
      "Cuando finalice su compra escribe 'salir.\n",
      "\n",
      "\n",
      "📦 Inventario disponible:\n",
      "- Falda ($25.0) - 137 unidades\n",
      "- Pantalon ($35.0) - 249 unidades\n",
      "- Camisa ($36.0) - 98 unidades\n",
      "- Abrigo ($70.0) - 78 unidades\n",
      "✅ 1 falda(s) añadidos al carrito.\n",
      "\n",
      "📦 Inventario disponible:\n",
      "- Falda ($25.0) - 136 unidades\n",
      "- Pantalon ($35.0) - 249 unidades\n",
      "- Camisa ($36.0) - 98 unidades\n",
      "- Abrigo ($70.0) - 78 unidades\n",
      "✅ 1 abrigo(s) añadidos al carrito.\n",
      "\n",
      "📦 Inventario disponible:\n",
      "- Falda ($25.0) - 136 unidades\n",
      "- Pantalon ($35.0) - 249 unidades\n",
      "- Camisa ($36.0) - 98 unidades\n",
      "- Abrigo ($70.0) - 77 unidades\n",
      "\n",
      "🧾 Resumen de tu compra:\n",
      "- Falda: 1 x $25.0 = $25.0\n",
      "- Abrigo: 1 x $70.0 = $70.0\n",
      "\n",
      "💰 Total a pagar: $95.0\n",
      "¡Gracias por tu compra! 🛍️\n"
     ]
    }
   ],
   "source": [
    "\n",
    "carrito = []\n",
    "\n",
    "#Mensaje de Bienvenida y palabra para indicar salir del bucle comprar (salir)\n",
    "\n",
    "print(\"BIENVENIDA A LA TIENDA DE ROPA LAURA\\n\\n\")\n",
    "print(\"Cuando finalice su compra escribe 'salir.\\n\")\n",
    "\n",
    "\n",
    "\n",
    "#Bucle de compra infinito que solo se va a romper manualmente con un break (palabra salir)\n",
    "#En este bucle:\n",
    "    #Le mostramos el inventario cada vez que vaya a añadir un producto\n",
    "    #Le preguntamos el producto que quiere\n",
    "    #Comprobamos que lo tenemos en el inventraio\n",
    "    #Le preguntamos la cantidad que quiere\n",
    "    #Verificamos si tenemos stock\n",
    "    #Añadimos el producto al carrito\n",
    "    #Actualizamos el stock\n",
    "\n",
    "while True:     \n",
    "\n",
    "    #1.Le mostramos lo primero el inventario disponible actual recorriendo cada producto y mostrando su inventario y precio\n",
    "\n",
    "    print(\"\\n📦 Inventario disponible:\")\n",
    "    for item in inventario:\n",
    "        print(f\"- {item['nombre'].title()} (${item['precio']}) - {item['cantidad']} unidades\")\n",
    "\n",
    "    #2.Le preguntamos que producto quiere comprar y si quiere parar escribe salir\n",
    "\n",
    "    producto = input(\"\\n¿Qué producto deseas comprar? (o escribe 'salir'): \").lower()\n",
    "    \n",
    "    if producto == \"salir\":\n",
    "        break\n",
    "\n",
    "    #3. Buscamos el producto en el inventario y si lo encontramos lo guardamos como producto encontrado. \n",
    "    #   Si le encontramos lo guardamos como producto encontrado\n",
    "    #   Si no lo encontramos, vuelve al inicio del while  \n",
    "\n",
    "    producto_encontrado = None\n",
    "    for item in inventario:\n",
    "        if item['nombre'] == producto:\n",
    "            producto_encontrado = item\n",
    "            break\n",
    "    \n",
    "    if not producto_encontrado:\n",
    "        print(\"❌ Producto no encontrado. Intenta de nuevo.\")\n",
    "        continue\n",
    "\n",
    "    #4. Le pedimos la cantidad del producto en forma de número\n",
    "    #   Si lo escribe mal, mostramos error y volvemos a empezar, utilizando un try except\n",
    "\n",
    "    try:\n",
    "        cantidad = int(input(f\"¿Cuántos {producto}s deseas comprar? \"))\n",
    "    except ValueError:\n",
    "        print(\"⚠️ Ingresa un número válido.\")\n",
    "        continue\n",
    "\n",
    "    #5. Verificamos si hay cantidad suficiente en nuestro stock\n",
    "\n",
    "    if cantidad <= 0:\n",
    "        print(\"⚠️ La cantidad debe ser mayor a cero.\")\n",
    "        continue\n",
    "\n",
    "    if cantidad > producto_encontrado['cantidad']:\n",
    "        print(f\"❌ No hay suficiente stock. Disponible: {producto_encontrado['cantidad']}\")\n",
    "        continue\n",
    "\n",
    "    # 6. Agregar al carrito\n",
    "\n",
    "    item_en_carrito = None\n",
    "    for item in carrito:\n",
    "        if item['nombre'] == producto:                  # Vamos añadiendo los productos al carrito\n",
    "            item_en_carrito = item\n",
    "            break\n",
    "\n",
    "    if item_en_carrito:                                  # Si el producto está en el carrito, lo sumamos\n",
    "        item_en_carrito['cantidad'] += cantidad\n",
    "    else:                                                # Si el producto no está en el carrito lo añadimos como nuevo\n",
    "        carrito.append({\n",
    "            'nombre': producto,\n",
    "            'precio': producto_encontrado['precio'],\n",
    "            'cantidad': cantidad\n",
    "        })\n",
    "    \n",
    "    # 7. Restamos la cantidad del producto comprado al stock del inventario\n",
    "\n",
    "    producto_encontrado['cantidad'] -= cantidad\n",
    "    print(f\"✅ {cantidad} {producto}(s) añadidos al carrito.\")\n",
    "\n",
    "\n",
    "\n",
    "#Resumen de la compra una vez que escribe salir en el bucle while\n",
    "\n",
    "print(\"\\n🧾 Resumen de tu compra:\")\n",
    "total = 0\n",
    "for item in carrito:                                    \n",
    "    subtotal = item['precio'] * item['cantidad']  # Calculamos el subtotal de cada producto\n",
    "    total += round(subtotal,2)                              # Calculamos el total de todos los productos y lo redondeamos a 2 decimales   \n",
    "    print(f\"- {item['nombre'].title()}: {item['cantidad']} x ${item['precio']} = ${subtotal:}\")\n",
    "\n",
    "print(f\"\\n💰 Total a pagar: ${total:}\")\n",
    "print(\"¡Gracias por tu compra! 🛍️\")"
   ]
  },
  {
   "cell_type": "code",
   "execution_count": 91,
   "id": "70602384",
   "metadata": {},
   "outputs": [
    {
     "data": {
      "text/plain": [
       "[{'nombre': 'falda', 'precio': 25.0, 'cantidad': 1},\n",
       " {'nombre': 'abrigo', 'precio': 70.0, 'cantidad': 1}]"
      ]
     },
     "execution_count": 91,
     "metadata": {},
     "output_type": "execute_result"
    }
   ],
   "source": [
    "carrito"
   ]
  },
  {
   "cell_type": "code",
   "execution_count": 92,
   "id": "959ae0ea",
   "metadata": {},
   "outputs": [
    {
     "data": {
      "text/plain": [
       "[{'nombre': 'falda', 'precio': 25.0, 'cantidad': 136},\n",
       " {'nombre': 'pantalon', 'precio': 35.0, 'cantidad': 249},\n",
       " {'nombre': 'camisa', 'precio': 36.0, 'cantidad': 98},\n",
       " {'nombre': 'abrigo', 'precio': 70.0, 'cantidad': 77}]"
      ]
     },
     "execution_count": 92,
     "metadata": {},
     "output_type": "execute_result"
    }
   ],
   "source": [
    "inventario"
   ]
  },
  {
   "cell_type": "markdown",
   "id": "0eb484ef",
   "metadata": {},
   "source": [
    "# 3. EJERCICIOS VOLUNTARIOS"
   ]
  },
  {
   "cell_type": "markdown",
   "id": "d7e6449b",
   "metadata": {},
   "source": [
    "8. PROCESAR PAGO"
   ]
  },
  {
   "cell_type": "code",
   "execution_count": null,
   "id": "5e82b05f",
   "metadata": {},
   "outputs": [],
   "source": [
    "#Procesa el pago de una compra, calcula el cambio y muestra un mensaje de confirmación. \n",
    "    #Utiliza un bloque `try...except` para manejar excepciones. \n",
    "    #Solicita al cliente ingresar la cantidad total y la cantidad de pago usando un input. \n",
    "    #Calcula el cambio y muestra un mensaje de pago exitoso o un error en caso de monto insuficiente."
   ]
  },
  {
   "cell_type": "code",
   "execution_count": 84,
   "id": "0e4afd05",
   "metadata": {},
   "outputs": [
    {
     "data": {
      "text/plain": [
       "[{'nombre': 'falda', 'precio': 25.0, 'cantidad': 1},\n",
       " {'nombre': 'abrigo', 'precio': 70.0, 'cantidad': 1}]"
      ]
     },
     "execution_count": 94,
     "metadata": {},
     "output_type": "execute_result"
    }
   ],
   "source": [
    "carrito"
   ]
  },
  {
   "cell_type": "code",
   "execution_count": 110,
   "id": "2c315269",
   "metadata": {},
   "outputs": [
    {
     "name": "stdout",
     "output_type": "stream",
     "text": [
      "- Falda: 1 x $25.0 = $25.0\n",
      "- Abrigo: 1 x $70.0 = $70.0\n",
      "\n",
      "💰 Total a pagar: $95.0\n",
      "💲 Su cambio es: $5.00\n",
      "\n",
      "\n",
      "GRACIAS POR SU COMPRA\n"
     ]
    }
   ],
   "source": [
    "pago_total_carrito= 0\n",
    "\n",
    "for item in carrito:                                   \n",
    "    subtotal = item['precio'] * item['cantidad']  # Calculamos el subtotal de cada producto \n",
    "    print(f\"- {item['nombre'].title()}: {item['cantidad']} x ${item['precio']} = ${subtotal:}\")\n",
    "    pago_total_carrito += round(subtotal,2)   \n",
    "print(f\"\\n💰 Total a pagar: ${pago_total_carrito}\")\n",
    "while True:\n",
    "    try:\n",
    "         pago_cliente = float(input(f\"Introduzca el importe para calcular su cambio\"))\n",
    "         if pago_cliente < pago_total_carrito:\n",
    "            print(\"⚠️ El importe ingresado es insuficiente.\")\n",
    "            continue  # Vuelve a pedir el importe\n",
    "         cambio = pago_cliente-pago_total_carrito\n",
    "         print(f\"💲 Su cambio es: ${cambio:.2f}\\n\\n\")\n",
    "         print(\"GRACIAS POR SU COMPRA\")\n",
    "         break\n",
    "    \n",
    "    except ValueError:\n",
    "        print(\"⚠️ Ingresa un número válido.\")\n",
    "        continue"
   ]
  },
  {
   "cell_type": "markdown",
   "id": "7a9ffd7a",
   "metadata": {},
   "source": [
    "9. AGREGAR CLIENTE"
   ]
  },
  {
   "cell_type": "code",
   "execution_count": null,
   "id": "33941ab7",
   "metadata": {},
   "outputs": [],
   "source": [
    "#Agrega un nuevo cliente al registro de clientes. \n",
    "# Debe recibir el nombre y el correo electrónico del cliente como parámetros. \n",
    "# Agrega un cliente al diccionario de clientes con su nombre y correo electrónico."
   ]
  },
  {
   "cell_type": "code",
   "execution_count": 134,
   "id": "20e4381f",
   "metadata": {},
   "outputs": [
    {
     "name": "stdout",
     "output_type": "stream",
     "text": [
      "Ya se ha actualizado su base de datos de clientes\n"
     ]
    }
   ],
   "source": [
    "clientes=[]\n",
    "\n",
    "while True:                   #mientras sea verdadero se repite hasta que le preguntamos si quiere seguir actualizando\n",
    "    nombre_cliente = input(\"Nombre del cliente:\").lower()\n",
    "    email_cliente = input(\"Email del cliente:\").lower()\n",
    "    \n",
    "\n",
    "    #Creamos el diccionario del cliente\n",
    "    dic_cliente = {\"nombre\":nombre_cliente,\"email\":email_cliente}\n",
    "            \n",
    "    # Buscamos si el cliente ya existe\n",
    "    encontrado = False\n",
    "    for cliente in clientes:\n",
    "        if cliente [\"nombre\"].lower() == nombre_cliente.lower():\n",
    "            encontrado = True\n",
    "            break\n",
    "    if not encontrado:\n",
    "         clientes.append(dic_cliente)\n",
    "\n",
    "    seguir = input(\"Quieres añadir más clientes? s/n :\")\n",
    "    if seguir.lower() != \"s\":\n",
    "        break\n",
    "print(\"Ya se ha actualizado su base de datos de clientes\")\n"
   ]
  },
  {
   "cell_type": "code",
   "execution_count": 135,
   "id": "ed8a374e",
   "metadata": {},
   "outputs": [
    {
     "data": {
      "text/plain": [
       "[{'nombre': 'lucas', 'email': 'lucasm@gmail.com'},\n",
       " {'nombre': 'maria', 'email': 'marit@gmail.com'},\n",
       " {'nombre': 'lolo', 'email': 'lolo@gmail.com'}]"
      ]
     },
     "execution_count": 135,
     "metadata": {},
     "output_type": "execute_result"
    }
   ],
   "source": [
    "clientes"
   ]
  },
  {
   "cell_type": "markdown",
   "id": "dee9f2d9",
   "metadata": {},
   "source": [
    "10. VER CLIENTES"
   ]
  },
  {
   "cell_type": "code",
   "execution_count": null,
   "id": "ba1b0229",
   "metadata": {},
   "outputs": [],
   "source": [
    "#Muestra la lista de clientes registrados con sus nombres y correos electrónicos. \n",
    "    #Utiliza un bucle `for` para recorrer la base de datos de clientes. \n",
    "    #Imprime los detalles de cada cliente (nombre y correo electrónico)."
   ]
  },
  {
   "cell_type": "code",
   "execution_count": 137,
   "id": "166bf82b",
   "metadata": {},
   "outputs": [
    {
     "name": "stdout",
     "output_type": "stream",
     "text": [
      "Nombre: lucas\n",
      "Email: lucasm@gmail.com \n",
      "\n",
      ".......................................\n",
      "\n",
      "Nombre: maria\n",
      "Email: marit@gmail.com \n",
      "\n",
      ".......................................\n",
      "\n",
      "Nombre: lolo\n",
      "Email: lolo@gmail.com \n",
      "\n",
      ".......................................\n",
      "\n"
     ]
    }
   ],
   "source": [
    "for cliente in clientes:\n",
    "    print(f\"Nombre: {cliente['nombre']}\")\n",
    "    print(f\"Email: {cliente['email']} \")\n",
    "\n",
    "    print (\"\\n.......................................\\n\")"
   ]
  },
  {
   "cell_type": "markdown",
   "id": "9c00cfe4",
   "metadata": {},
   "source": [
    "11. REGISTRAR COMPRA"
   ]
  },
  {
   "cell_type": "code",
   "execution_count": null,
   "id": "3b3cec5a",
   "metadata": {},
   "outputs": [],
   "source": [
    "# Registra una compra para un cliente\n",
    "# actualiza las ventas totales y agrega la compra al historial del cliente. \n",
    "# Debe recibir el nombre del cliente y el carrito de compras como parámetros. \n",
    "    #Busca al cliente en el diccionario de clientes. \n",
    "    #Si el cliente no esta en el diccionario de clientes,muestra que no se puede realizar la acción por que el cliente no está en el diccionario.  \n",
    "    # Calcula el total de la compra y registra la compra, incluyendo los productos y el total."
   ]
  },
  {
   "cell_type": "code",
   "execution_count": null,
   "id": "97f522ba",
   "metadata": {},
   "outputs": [
    {
     "name": "stdout",
     "output_type": "stream",
     "text": [
      "Ya se ha actualizado su historial de compras de clientes\n"
     ]
    }
   ],
   "source": [
    "historial_compras = []\n",
    "\n",
    "while True:                   \n",
    "    nombre_cliente = input(\"Nombre del cliente:\").lower()\n",
    "    importe_carrito = int(input (\"Importe del carrrito)\"))\n",
    "    \n",
    "    #Creamos el diccionario del cliente\n",
    "    historial_cliente = {\"nombre\":nombre_cliente,\"carrito\":importe_carrito}\n",
    "            \n",
    "    # Buscamos si el cliente ya existe\n",
    "    encontrado = False\n",
    "    for cliente in clientes:\n",
    "        if cliente [\"nombre\"].lower() == nombre_cliente.lower():\n",
    "            encontrado = True\n",
    "            historial_compras.append(historial_cliente)\n",
    "            break\n",
    "    if not encontrado:\n",
    "        print(\"El cliente no se encuentra en la base de datos de clientes\")\n",
    "\n",
    "    seguir = input(\"Quieres añadir más compras de clientes? s/n :\")\n",
    "    if seguir.lower() != \"s\":\n",
    "        break\n",
    "print(\"Ya se ha actualizado su historial de compras de clientes\")\n",
    "    "
   ]
  },
  {
   "cell_type": "code",
   "execution_count": 155,
   "id": "ceefc1d6",
   "metadata": {},
   "outputs": [
    {
     "data": {
      "text/plain": [
       "[{'nombre': 'maria', 'carrito': 560},\n",
       " {'nombre': 'lolo', 'carrito': 100},\n",
       " {'nombre': 'lolo', 'carrito': 200},\n",
       " {'nombre': 'lucas', 'carrito': 1000},\n",
       " {'nombre': 'lucas', 'carrito': 50}]"
      ]
     },
     "execution_count": 155,
     "metadata": {},
     "output_type": "execute_result"
    }
   ],
   "source": [
    "historial_compras"
   ]
  },
  {
   "cell_type": "markdown",
   "id": "9272dee7",
   "metadata": {},
   "source": [
    "12. VER COMPRA DE CLIENTE"
   ]
  },
  {
   "cell_type": "markdown",
   "id": "efb3852c",
   "metadata": {},
   "source": [
    "13. CALCULAR VENTAS TOTALES"
   ]
  }
 ],
 "metadata": {
  "kernelspec": {
   "display_name": "base",
   "language": "python",
   "name": "python3"
  },
  "language_info": {
   "codemirror_mode": {
    "name": "ipython",
    "version": 3
   },
   "file_extension": ".py",
   "mimetype": "text/x-python",
   "name": "python",
   "nbconvert_exporter": "python",
   "pygments_lexer": "ipython3",
   "version": "3.12.7"
  }
 },
 "nbformat": 4,
 "nbformat_minor": 5
}
