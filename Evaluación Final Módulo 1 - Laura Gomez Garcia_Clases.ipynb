{
 "cells": [
  {
   "cell_type": "markdown",
   "id": "7d385d11",
   "metadata": {},
   "source": [
    "# Evaluación Final Módulo 1 - Laura Gomez Garcia"
   ]
  },
  {
   "cell_type": "code",
   "execution_count": null,
   "id": "44c4f420",
   "metadata": {},
   "outputs": [],
   "source": []
  }
 ],
 "metadata": {
  "kernelspec": {
   "display_name": "base",
   "language": "python",
   "name": "python3"
  },
  "language_info": {
   "name": "python",
   "version": "3.12.7"
  }
 },
 "nbformat": 4,
 "nbformat_minor": 5
}
